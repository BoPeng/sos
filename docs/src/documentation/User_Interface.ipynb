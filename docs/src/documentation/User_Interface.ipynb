{
 "cells": [
  {
   "cell_type": "markdown",
   "metadata": {},
   "source": [
    "# User interface"
   ]
  },
  {
   "cell_type": "markdown",
   "metadata": {},
   "source": [
    "## Command `sos`"
   ]
  },
  {
   "cell_type": "markdown",
   "metadata": {},
   "source": [
    "Command `sos` accepts a number of subcommands (similar to `svn`, `git` etc). Its syntax follows\n",
    "\n",
    "```bash\n",
    "sos subcommand [subcommand-options]\n",
    "```\n",
    "\n",
    "You can use command"
   ]
  },
  {
   "cell_type": "code",
   "execution_count": 9,
   "metadata": {
    "collapsed": false
   },
   "outputs": [
    {
     "name": "stdout",
     "output_type": "stream",
     "text": [
      "usage: sos [-h] [--version]\n",
      "           {run,dryrun,convert,remove,config,pack,unpack,patch_spyder} ...\n",
      "\n",
      "A workflow system for the execution of commands and scripts in different\n",
      "languages.\n",
      "\n",
      "optional arguments:\n",
      "  -h, --help            show this help message and exit\n",
      "  --version             show program's version number and exit\n",
      "\n",
      "subcommands:\n",
      "  {run,dryrun,convert,remove,config,pack,unpack,patch_spyder}\n",
      "    run                 Execute default or specified workflow defined in\n",
      "                        script\n",
      "    dryrun              Inspect specified script for syntax errors\n",
      "    convert             Converts .sos to various formats including .html for\n",
      "                        web display, to jupyter notebook (.ipynb), and to\n",
      "                        terminal for syntax highlighted viewing on terminal.\n",
      "                        It also allows converting from jupyter notebook\n",
      "                        (.ipynb) to sos script (.sos).\n",
      "    remove              Remove specified files and directories and their\n",
      "                        signatures (if available). Optionally, you can remove\n",
      "                        only tracked files (input, output and intermediate\n",
      "                        files of executed workflows) or untracked file from\n",
      "                        specified files and/or directories.\n",
      "    config              Displays, set, and unset configuration variables\n",
      "                        defined in global or local configuration files.\n",
      "    pack                Collect sos scripts, all input, output, and tracked\n",
      "                        intermediate files related to a workflow run and\n",
      "                        bundle them into a single archive. The archive can be\n",
      "                        examined (without unpacking) with command \"sos show\"\n",
      "                        and be unpacked with command \"sos unpack\". This\n",
      "                        command does not include files outside of the current\n",
      "                        working directory unless they are specified by option\n",
      "                        --include, or --all.\n",
      "    unpack              Unpack a sos archive to a specified directory. For\n",
      "                        security reasons, files that were outside of the\n",
      "                        project directory would be extracted in this directory\n",
      "                        unless option -e is specified.\n",
      "    patch_spyder        Patch spyder to work with SoS kernel\n",
      "\n",
      "Use 'sos cmd -h' for details about each subcommand. Please contact Bo Peng\n",
      "(bpeng at mdanderson.org) if you have any question.\n"
     ]
    }
   ],
   "source": [
    "!sos -h"
   ]
  },
  {
   "cell_type": "markdown",
   "metadata": {},
   "source": [
    "to get a list of subcommands with brief descriptions and\n",
    "```bash\n",
    "sos subcommand -h\n",
    "```\n",
    "to get detailed description of a particular subcommand."
   ]
  },
  {
   "cell_type": "markdown",
   "metadata": {},
   "source": [
    "## subcommand `run`"
   ]
  },
  {
   "cell_type": "code",
   "execution_count": 10,
   "metadata": {
    "collapsed": false
   },
   "outputs": [
    {
     "name": "stdout",
     "output_type": "stream",
     "text": [
      "usage: sos run [-h] [-j JOBS] [-c CONFIG_FILE] [-t FILE [FILE ...]]\n",
      "               [-b [BIN_DIR [BIN_DIR ...]]] [-q QUEUE] [-n] [-f] [-F]\n",
      "               [-v {0,1,2,3,4}]\n",
      "               SCRIPT [WORKFLOW]\n",
      "\n",
      "Execute default or specified workflow defined in script\n",
      "\n",
      "positional arguments:\n",
      "  SCRIPT                A SoS script that defines one or more workflows. The\n",
      "                        script can be a filename or a URL from which the\n",
      "                        content of a SoS will be read. If a valid file cannot\n",
      "                        be located or downloaded, SoS will search for the\n",
      "                        script in a search path specified by variable\n",
      "                        `sos_path` defined in the global SoS configuration\n",
      "                        file (~/.sos/config.yaml).\n",
      "  WORKFLOW              Name of the workflow to execute. This option can be\n",
      "                        ignored if the script defines a default workflow (with\n",
      "                        no name or with name `default`) or defines only a\n",
      "                        single workflow. A subworkflow or a combined workflow\n",
      "                        can also be specified, where a subworkflow executes a\n",
      "                        subset of workflow (`name_steps` where `steps` can be\n",
      "                        `n` (a step `n`), `:n` (up to step `n`), `n:m` (from\n",
      "                        step `n` to `m`), and `n:` (from step `n`)), and a\n",
      "                        combined workflow executes to multiple (sub)workflows\n",
      "                        combined by `+` (e.g. `A_0+B+C`).\n",
      "\n",
      "optional arguments:\n",
      "  -h, --help            show this help message and exit\n",
      "  -j JOBS               Number of concurrent process allowed. A workflow is by\n",
      "                        default executed sequentially (-j 1). If a greater\n",
      "                        than 1 number is specified SoS will execute the\n",
      "                        workflow in parallel mode and execute up to specified\n",
      "                        processes concurrently. These include looped processes\n",
      "                        within a step (with runtime option `concurrent=True`)\n",
      "                        and steps with non-missing required files.\n",
      "  -c CONFIG_FILE        A configuration file in the format of YAML/JSON. The\n",
      "                        content of the configuration file will be available as\n",
      "                        a dictionary CONF in the SoS script being executed.\n",
      "  -t FILE [FILE ...]    One of more files or alias of other targets that will\n",
      "                        be the target of execution. If specified, SoS will\n",
      "                        execute only part of a workflow or multiple workflows\n",
      "                        or auxiliary steps to generate specified targets.\n",
      "  -b [BIN_DIR [BIN_DIR ...]]\n",
      "                        Extra directories in which SoS will look for\n",
      "                        executables before standard $PATH. This option\n",
      "                        essentially prefix $PATH with these directories. Note\n",
      "                        that the default value '~/.sos/bin' is by convention a\n",
      "                        default directory for commands that are installed by\n",
      "                        SoS. You can use option '-b' without value to disallow\n",
      "                        commands under ~/.sos/bin.\n",
      "  -q QUEUE              Task-processing queue. SoS by default uses a local\n",
      "                        multiprocessing queue where tasks are executed by\n",
      "                        different processes. Supported task queues include a\n",
      "                        'rq' engine where tasks will be distributed to one or\n",
      "                        more rq-workers with assistance from a redis server,\n",
      "                        and a 'celery' quque where tasks will be distributed\n",
      "                        to celery workers.\n",
      "  -v {0,1,2,3,4}, --verbosity {0,1,2,3,4}\n",
      "                        Output error (0), warning (1), info (2), debug (3) and\n",
      "                        trace (4) information to standard output (default to\n",
      "                        2).\n",
      "\n",
      "Run mode options:\n",
      "  Control how sos scirpt is executed.\n",
      "\n",
      "  -n                    Execute a workflow without executing any actions. This\n",
      "                        can be used to check the syntax of a SoS file.\n",
      "  -f                    Execute the workflow in a special run mode that\n",
      "                        ignores saved runtime signatures and re-execute all\n",
      "                        the steps.\n",
      "  -F                    Execute the workflow in a special run mode that re-use\n",
      "                        existing output files and recontruct runtime\n",
      "                        signatures if output files exist.\n",
      "\n",
      "Arbitrary parameters defined by the [parameters] step of the script, and\n",
      "[parameters] steps of other scripts if nested workflows are defined in other\n",
      "SoS files (option `source`). The name, default and type of the parameters are\n",
      "specified in the script. Single value parameters should be passed using option\n",
      "`--name value` and multi-value parameters should be passed using option\n",
      "`--name value1 value2`.\n"
     ]
    }
   ],
   "source": [
    "!sos run -h"
   ]
  },
  {
   "cell_type": "markdown",
   "metadata": {},
   "source": [
    "Examples of the `sos run` include\n",
    "\n",
    "```bash\n",
    "sos run -h                       # get help message\n",
    "sos run myscript                 # run default workflow defined in myscript\n",
    "sos run myscript align           # run workflow align defined in myscript\n",
    "sos run myscript align+call      # run a combined workflow align+call\n",
    "sos run myscript align -h        # help message for the align workflow defined in myscript\n",
    "sos run -n myscript align        # run align workflow in inspect mode \n",
    "```"
   ]
  },
  {
   "cell_type": "markdown",
   "metadata": {},
   "source": [
    "## subcommand `dryrun`\n",
    "\n",
    "This command execute the script in dryrun mode. It is alias to command `sos run -n`."
   ]
  },
  {
   "cell_type": "markdown",
   "metadata": {},
   "source": [
    "## subcommand `convert`"
   ]
  },
  {
   "cell_type": "code",
   "execution_count": 11,
   "metadata": {
    "collapsed": false
   },
   "outputs": [
    {
     "name": "stdout",
     "output_type": "stream",
     "text": [
      "usage: sos convert [-h] [-t TO_FORMAT] [-l] [-v {0,1,2,3,4}] [FROM] [TO]\n",
      "\n",
      "Converts .sos to various formats including .html for web display, to jupyter\n",
      "notebook (.ipynb), and to terminal for syntax highlighted viewing on terminal.\n",
      "It also allows converting from jupyter notebook (.ipynb) to sos script (.sos).\n",
      "\n",
      "positional arguments:\n",
      "  FROM                  File to be converted.\n",
      "  TO                    File to convert to, default to standard output if no\n",
      "                        file name is given.\n",
      "\n",
      "optional arguments:\n",
      "  -h, --help            show this help message and exit\n",
      "  -t TO_FORMAT, --to TO_FORMAT\n",
      "                        Destination file format, which is usually determined\n",
      "                        from extension of `to_file` filename, but is needed if\n",
      "                        `to_file` is unspecified.\n",
      "  -l, --list            List available converters and their options.\n",
      "  -v {0,1,2,3,4}, --verbosity {0,1,2,3,4}\n",
      "                        Output error (0), warning (1), info (2), debug (3) and\n",
      "                        trace (4) information to standard output (default to\n",
      "                        2).\n",
      "\n",
      "Extra command line argument could be specified to customize the style of html,\n",
      "markdown, and terminal output.\n"
     ]
    }
   ],
   "source": [
    "!sos convert -h"
   ]
  },
  {
   "cell_type": "markdown",
   "metadata": {},
   "source": [
    "![HTML](../media/QuickStart.sos.html.png)\n",
    "\n",
    "It is also worth noting that you are a VIM user, it is highly recommended that you install the SoS syntax file so that your SoS scripts can be properly highlighted during editing. This is not only visually appealing but is very helpful in identifying syntax errors as you write. The same script in vim with a dark background would look look like \n",
    "\n",
    "![vim](../media/QuickStart.sos.vim.png)"
   ]
  },
  {
   "cell_type": "markdown",
   "metadata": {},
   "source": [
    "## subcommand `config`"
   ]
  },
  {
   "cell_type": "code",
   "execution_count": 12,
   "metadata": {
    "collapsed": false
   },
   "outputs": [
    {
     "name": "stdout",
     "output_type": "stream",
     "text": [
      "usage: sos config [-h] [-g] [-c CONFIG_FILE]\n",
      "                  (--get [OPTION [OPTION ...]] | --unset OPTION [OPTION ...] | --set KEY VALUE [KEY VALUE ...])\n",
      "                  [-v {0,1,2,3,4}]\n",
      "\n",
      "Displays, set, and unset configuration variables defined in global or local\n",
      "configuration files.\n",
      "\n",
      "optional arguments:\n",
      "  -h, --help            show this help message and exit\n",
      "  -g, --global          If set, change global (~/.sos/config.yaml) instead of\n",
      "                        local (.sos/config.yaml) configuration\n",
      "  -c CONFIG_FILE, --config CONFIG_FILE\n",
      "                        User specified configuration file in YAML format. This\n",
      "                        file will not be automatically loaded by SoS but can\n",
      "                        be specified using option `-c`\n",
      "  --get [OPTION [OPTION ...]]\n",
      "                        Display values of specified configuration. The\n",
      "                        arguments of this option can be a single configuration\n",
      "                        option or a list of option. Wildcard characters are\n",
      "                        allowed to match more options (e.g. '*timeout',\n",
      "                        quotation is needed to avoid shell expansion). If no\n",
      "                        option is given, all options will be outputted.\n",
      "  --unset OPTION [OPTION ...]\n",
      "                        Unset (remove) settings for specified options. The\n",
      "                        arguments of this option can be a single configuration\n",
      "                        option or a list of option. Wildcard characters are\n",
      "                        allowed to match more options (e.g. '*timeout', or '*'\n",
      "                        for all options, quotation is needed to avoid shell\n",
      "                        expansion).\n",
      "  --set KEY VALUE [KEY VALUE ...]\n",
      "                        --set KEY VALUE sets VALUE to variable KEY. The value\n",
      "                        can be any valid python expression (e.g. 5 for integer\n",
      "                        5 and '{\"c\": 2, \"d\": 1}' for a dictionary) with\n",
      "                        invalid expression (e.g. val without quote) considered\n",
      "                        as string. Syntax 'A.B=v' can be used to add {'B': v}\n",
      "                        to dictionary 'A', and --set KEY VALUE1 VALUE2 ...\n",
      "                        will create a list with multiple values.\n",
      "  -v {0,1,2,3,4}, --verbosity {0,1,2,3,4}\n",
      "                        Output error (0), warning (1), info (2), debug (3) and\n",
      "                        trace (4) information to standard output (default to\n",
      "                        2).\n"
     ]
    }
   ],
   "source": [
    "!sos config -h"
   ]
  },
  {
   "cell_type": "markdown",
   "metadata": {},
   "source": [
    "This subcommand can read/write three configuration files\n",
    "\n",
    "1. **`~/.sos/config.yaml`** A global SoS configuration file. (option `--global`)\n",
    "2. **`.sos/config.yaml`** Project specific SoS configuration file. (default)\n",
    "3. **User specified** Any configuration file specified with option `-c` (`--config`).\n",
    "\n",
    "The global and local configuration files will be loaded by default. Other configuration files can be specified using option `-c` of the `sos run` command. Options defined in these configuration file will be available to the script as dictionary `CONFIG`. \n",
    "\n",
    "Note that you can set complex datatypes from command line using Python expressions,"
   ]
  },
  {
   "cell_type": "code",
   "execution_count": 13,
   "metadata": {
    "collapsed": false
   },
   "outputs": [
    {
     "name": "stdout",
     "output_type": "stream",
     "text": [
      "Set a to {'b': 1}\n"
     ]
    }
   ],
   "source": [
    "!sos config --set a '{\"b\":1}'"
   ]
  },
  {
   "cell_type": "markdown",
   "metadata": {},
   "source": [
    "although "
   ]
  },
  {
   "cell_type": "code",
   "execution_count": 14,
   "metadata": {
    "collapsed": false
   },
   "outputs": [
    {
     "name": "stdout",
     "output_type": "stream",
     "text": [
      "Set a to {'b': 1}\n"
     ]
    }
   ],
   "source": [
    "!sos config --set a.b 1"
   ]
  },
  {
   "cell_type": "markdown",
   "metadata": {},
   "source": [
    "is easier to write if you only need to set one key `b` in dictionary `a`."
   ]
  },
  {
   "cell_type": "markdown",
   "metadata": {},
   "source": [
    "## subcommand `remove`"
   ]
  },
  {
   "cell_type": "code",
   "execution_count": 15,
   "metadata": {
    "collapsed": false
   },
   "outputs": [
    {
     "name": "stdout",
     "output_type": "stream",
     "text": [
      "usage: sos remove [-h] [-t | -u] [-n] [-y] [-v {0,1,2,3,4}]\n",
      "                  [FILE_OR_DIR [FILE_OR_DIR ...]]\n",
      "\n",
      "Remove specified files and directories and their signatures (if available).\n",
      "Optionally, you can remove only tracked files (input, output and intermediate\n",
      "files of executed workflows) or untracked file from specified files and/or\n",
      "directories.\n",
      "\n",
      "positional arguments:\n",
      "  FILE_OR_DIR           Files and directories to be removed, which should be\n",
      "                        under the current directory (default). All, tracked,\n",
      "                        or untracked files will be removed depending on other\n",
      "                        options ('-t' or '-u'). For safety reasons, files\n",
      "                        under the current directory have to be listed (not as\n",
      "                        files under .) to be removed.\n",
      "\n",
      "optional arguments:\n",
      "  -h, --help            show this help message and exit\n",
      "  -t                    Remove tracked files and their signatures from\n",
      "                        specified files and directories.\n",
      "  -u                    Remove untracked files from specified files and\n",
      "                        directories.\n",
      "  -n                    List files or directories to be removed, without\n",
      "                        actually removing them.\n",
      "  -y, --yes             Remove files without confirmation, suitable for batch\n",
      "                        removal of files.\n",
      "  -v {0,1,2,3,4}, --verbosity {0,1,2,3,4}\n",
      "                        Output error (0), warning (1), info (2), debug (3) and\n",
      "                        trace (4) information to standard output (default to\n",
      "                        2).\n"
     ]
    }
   ],
   "source": [
    "!sos remove -h"
   ]
  },
  {
   "cell_type": "markdown",
   "metadata": {},
   "source": [
    "## subcommand `pack`"
   ]
  },
  {
   "cell_type": "code",
   "execution_count": 16,
   "metadata": {
    "collapsed": false
   },
   "outputs": [
    {
     "name": "stdout",
     "output_type": "stream",
     "text": [
      "usage: sos pack [-h] [-o OUTPUT] [-i [INCLUDE [INCLUDE ...]]]\n",
      "                [-e [EXCLUDE [EXCLUDE ...]]] [-a] [-m MESSAGE] [-d] [-y]\n",
      "                [-v {0,1,2,3,4}]\n",
      "                [session]\n",
      "\n",
      "Collect sos scripts, all input, output, and tracked intermediate files related\n",
      "to a workflow run and bundle them into a single archive. The archive can be\n",
      "examined (without unpacking) with command \"sos show\" and be unpacked with\n",
      "command \"sos unpack\". This command does not include files outside of the\n",
      "current working directory unless they are specified by option --include, or\n",
      "--all.\n",
      "\n",
      "positional arguments:\n",
      "  session               ID of the session to be saved, which can be any number\n",
      "                        of digits as long as it can uniquely determine a\n",
      "                        workflow session. This parameter can be ignored if\n",
      "                        only one session is available.\n",
      "\n",
      "optional arguments:\n",
      "  -h, --help            show this help message and exit\n",
      "  -o OUTPUT, --output OUTPUT\n",
      "                        Output file, which can be a file with extension \".sar\"\n",
      "                        (the extension will be be automatically appended if\n",
      "                        needed), or \"-\" for standard output (default).\n",
      "  -i [INCLUDE [INCLUDE ...]], --include [INCLUDE [INCLUDE ...]]\n",
      "                        Additional files or directories to be incldued in the\n",
      "                        archive. SoS will archive all files under specified\n",
      "                        directories, including hidden directories such as\n",
      "                        \".git\". Option --exclude could be used to exclude\n",
      "                        these files.\n",
      "  -e [EXCLUDE [EXCLUDE ...]], --exclude [EXCLUDE [EXCLUDE ...]]\n",
      "                        Files that should be excluded from archive. The\n",
      "                        parameter should be one or more patterns that match\n",
      "                        the whole path (e.g. \"output/*.log\" or file or\n",
      "                        directory names such as \"tmp\" or \"*.bam\".\n",
      "  -a, --all             Include all tracked files even if they reside outside\n",
      "                        of the current working directory.\n",
      "  -m MESSAGE, --message MESSAGE\n",
      "                        A short message to be included into the archive.\n",
      "                        Because the message would be lost during unpacking, it\n",
      "                        is highly recommended that you create a README file\n",
      "                        and include it with option --include.\n",
      "  -d, --dryrun          List files to be included and total file size without\n",
      "                        actually archiving them\n",
      "  -y, --yes             Overwrite output file if it already exists\n",
      "  -v {0,1,2,3,4}, --verbosity {0,1,2,3,4}\n",
      "                        Output error (0), warning (1), info (2), debug (3) and\n",
      "                        trace (4) information to standard output (default to\n",
      "                        2).\n"
     ]
    }
   ],
   "source": [
    "!sos pack -h"
   ]
  },
  {
   "cell_type": "markdown",
   "metadata": {},
   "source": [
    "## subcommand `unpack`"
   ]
  },
  {
   "cell_type": "code",
   "execution_count": 17,
   "metadata": {
    "collapsed": false
   },
   "outputs": [
    {
     "name": "stdout",
     "output_type": "stream",
     "text": [
      "usage: sos unpack [-h] [-d DEST] [-s] [-l] [-e] [-n] [-y] [-v {0,1,2,3,4}]\n",
      "                  archive [files [files ...]]\n",
      "\n",
      "Unpack a sos archive to a specified directory. For security reasons, files\n",
      "that were outside of the project directory would be extracted in this\n",
      "directory unless option -e is specified.\n",
      "\n",
      "positional arguments:\n",
      "  archive               SoS archive saved by command sos pack\n",
      "  files                 An optional list of files to be processed, which can\n",
      "                        be exact filenames or patterns (e.g. \"*.bam\"). No\n",
      "                        runtime information will be extracted if this option\n",
      "                        is specified.\n",
      "\n",
      "optional arguments:\n",
      "  -h, --help            show this help message and exit\n",
      "  -d DEST, --dest DEST  Directory where a sos archive would be unpacked.\n",
      "                        Default to current directory.\n",
      "  -s, --script          If specified, extract sos script(s) related to the\n",
      "                        workflow to the current or specified directory (option\n",
      "                        --dest), regardless of their original locations in the\n",
      "                        filesystem. Note that sos scripts are not extracted by\n",
      "                        default because they are usually external and it is\n",
      "                        dangerous to overwrite existing scripts with archived\n",
      "                        ones.\n",
      "  -l, --list            List content of the archive instead of extracting it.\n",
      "                        The names, uncompressed file sizes and modification\n",
      "                        dates and times of the specified files are printed,\n",
      "                        along with totals for all files specified.\n",
      "  -e, --external        Extract files outside of the project to their external\n",
      "                        destinations. This option can be dangerous because it\n",
      "                        can overwrite system files silently if accompanied\n",
      "                        with option -y.\n",
      "  -n, --no              Do not overwrite existing files without promoting\n",
      "                        users.\n",
      "  -y, --yes             Overwrite existing files without promoting users. This\n",
      "                        option can be dangerous to use. Note that SoS checks\n",
      "                        file signature and ignores existing files that are\n",
      "                        identical to those in the archive.\n",
      "  -v {0,1,2,3,4}, --verbosity {0,1,2,3,4}\n",
      "                        Output error (0), warning (1), info (2), debug (3) and\n",
      "                        trace (4) information to standard output (default to\n",
      "                        2).\n"
     ]
    }
   ],
   "source": [
    "!sos unpack -h"
   ]
  },
  {
   "cell_type": "markdown",
   "metadata": {},
   "source": [
    "## Command `sos-runner`"
   ]
  },
  {
   "cell_type": "markdown",
   "metadata": {},
   "source": [
    "Command `sos-runner` is a shortcut for ``sos run`` so\n",
    "\n",
    "```bash\n",
    "sos-runner script\n",
    "```\n",
    "\n",
    "is equivalent to\n",
    "\n",
    "```bash\n",
    "sos run script\n",
    "```\n",
    "\n",
    "This allows a SoS script to be executed directly if it is executable with shebang line\n",
    "\n",
    "```\n",
    "#!/usr/bin/env sos-runner\n",
    "```"
   ]
  }
 ],
 "metadata": {
  "anaconda-cloud": {},
  "kernelspec": {
   "display_name": "SoS",
   "language": "sos",
   "name": "sos"
  },
  "language_info": {
   "codemirror_mode": "sos",
   "file_extension": ".sos",
   "mimetype": "text/x-sos",
   "name": "sos",
   "nbconvert_exporter": "sos.kernel.SoS_Exporter",
   "pygments_lexer": "sos"
  }
 },
 "nbformat": 4,
 "nbformat_minor": 1
}
